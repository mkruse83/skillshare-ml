{
 "cells": [
  {
   "cell_type": "markdown",
   "metadata": {
    "application/vnd.databricks.v1+cell": {
     "cellMetadata": {},
     "inputWidgets": {},
     "nuid": "192507ac-6bae-4d34-9ba1-edd046073a75",
     "showTitle": false,
     "title": ""
    }
   },
   "source": [
    "# Train / Test"
   ]
  },
  {
   "cell_type": "markdown",
   "metadata": {
    "application/vnd.databricks.v1+cell": {
     "cellMetadata": {},
     "inputWidgets": {},
     "nuid": "87737a38-a5df-4fa8-be14-6e1ac8115d51",
     "showTitle": false,
     "title": ""
    }
   },
   "source": [
    "We'll start by creating some data set that we want to build a model for (in this case a polynomial regression):"
   ]
  },
  {
   "cell_type": "code",
   "execution_count": 0,
   "metadata": {
    "application/vnd.databricks.v1+cell": {
     "cellMetadata": {},
     "inputWidgets": {},
     "nuid": "d4e6d2e8-2bd0-43d5-b06a-e2d980692cf2",
     "showTitle": false,
     "title": ""
    }
   },
   "outputs": [],
   "source": [
    "%matplotlib inline\n",
    "import numpy as np\n",
    "from pylab import *\n",
    "\n",
    "np.random.seed(2)\n",
    "\n",
    "pageSpeeds = np.random.normal(3.0, 1.0, 100)\n",
    "purchaseAmount = np.random.normal(50.0, 30.0, 100) / pageSpeeds\n",
    "\n",
    "\n",
    "scatter(pageSpeeds, purchaseAmount)"
   ]
  },
  {
   "cell_type": "markdown",
   "metadata": {
    "application/vnd.databricks.v1+cell": {
     "cellMetadata": {},
     "inputWidgets": {},
     "nuid": "3b95cbc5-b6d9-4930-a1bb-36bfafc8cd59",
     "showTitle": false,
     "title": ""
    }
   },
   "source": [
    "Now we'll split the data in two - 80% of it will be used for \"training\" our model, and the other 20% for testing it. This way we can avoid overfitting."
   ]
  },
  {
   "cell_type": "code",
   "execution_count": 0,
   "metadata": {
    "application/vnd.databricks.v1+cell": {
     "cellMetadata": {},
     "inputWidgets": {},
     "nuid": "802310c5-33e9-4467-ba3a-5b598c65e372",
     "showTitle": false,
     "title": ""
    }
   },
   "outputs": [],
   "source": [
    "trainX = pageSpeeds[:80]\n",
    "testX = pageSpeeds[80:]\n",
    "\n",
    "trainY = purchaseAmount[:80]\n",
    "testY = purchaseAmount[80:]\n"
   ]
  },
  {
   "cell_type": "markdown",
   "metadata": {
    "application/vnd.databricks.v1+cell": {
     "cellMetadata": {},
     "inputWidgets": {},
     "nuid": "da730e8f-6194-40ea-a709-43f657bb9791",
     "showTitle": false,
     "title": ""
    }
   },
   "source": [
    "Here's our training dataset:"
   ]
  },
  {
   "cell_type": "code",
   "execution_count": 0,
   "metadata": {
    "application/vnd.databricks.v1+cell": {
     "cellMetadata": {},
     "inputWidgets": {},
     "nuid": "6a43e608-4b55-424f-b360-a61223ac09a5",
     "showTitle": false,
     "title": ""
    }
   },
   "outputs": [],
   "source": [
    "scatter(trainX, trainY)"
   ]
  },
  {
   "cell_type": "markdown",
   "metadata": {
    "application/vnd.databricks.v1+cell": {
     "cellMetadata": {},
     "inputWidgets": {},
     "nuid": "a88d171d-0621-41a1-a7da-d7ac97ad0a4c",
     "showTitle": false,
     "title": ""
    }
   },
   "source": [
    "And our test dataset:"
   ]
  },
  {
   "cell_type": "code",
   "execution_count": 0,
   "metadata": {
    "application/vnd.databricks.v1+cell": {
     "cellMetadata": {},
     "inputWidgets": {},
     "nuid": "3878edcc-2cf0-4ec1-a3c9-b72d1c78075a",
     "showTitle": false,
     "title": ""
    }
   },
   "outputs": [],
   "source": [
    "scatter(testX, testY)"
   ]
  },
  {
   "cell_type": "markdown",
   "metadata": {
    "application/vnd.databricks.v1+cell": {
     "cellMetadata": {},
     "inputWidgets": {},
     "nuid": "717eea08-bcc1-4d6c-bf7f-f55eabae97f1",
     "showTitle": false,
     "title": ""
    }
   },
   "source": [
    "Now we'll try to fit an 8th-degree polynomial to this data (which is almost certainly overfitting, given what we know about how it was generated!)"
   ]
  },
  {
   "cell_type": "code",
   "execution_count": 0,
   "metadata": {
    "application/vnd.databricks.v1+cell": {
     "cellMetadata": {},
     "inputWidgets": {},
     "nuid": "df9a28db-8463-46e0-8321-904ef2cfce43",
     "showTitle": false,
     "title": ""
    }
   },
   "outputs": [],
   "source": [
    "x = np.array(trainX)\n",
    "y = np.array(trainY)\n",
    "\n",
    "p4 = np.poly1d(np.polyfit(x, y, 8))"
   ]
  },
  {
   "cell_type": "markdown",
   "metadata": {
    "application/vnd.databricks.v1+cell": {
     "cellMetadata": {},
     "inputWidgets": {},
     "nuid": "6b310085-877a-460e-827a-0f92f73c0404",
     "showTitle": false,
     "title": ""
    }
   },
   "source": [
    "Let's plot our polynomial against the training data:"
   ]
  },
  {
   "cell_type": "code",
   "execution_count": 0,
   "metadata": {
    "application/vnd.databricks.v1+cell": {
     "cellMetadata": {},
     "inputWidgets": {},
     "nuid": "ca5a6053-77ad-4820-bd9c-f0d68d867c4c",
     "showTitle": false,
     "title": ""
    }
   },
   "outputs": [],
   "source": [
    "import matplotlib.pyplot as plt\n",
    "\n",
    "xp = np.linspace(0, 7, 100)\n",
    "axes = plt.axes()\n",
    "axes.set_xlim([0,7])\n",
    "axes.set_ylim([0, 200])\n",
    "plt.scatter(x, y)\n",
    "plt.plot(xp, p4(xp), c='r')\n",
    "plt.show()\n"
   ]
  },
  {
   "cell_type": "markdown",
   "metadata": {
    "application/vnd.databricks.v1+cell": {
     "cellMetadata": {},
     "inputWidgets": {},
     "nuid": "ea58f57a-072f-46d9-8696-83beb02aeb4c",
     "showTitle": false,
     "title": ""
    }
   },
   "source": [
    "And against our test data:"
   ]
  },
  {
   "cell_type": "code",
   "execution_count": 0,
   "metadata": {
    "application/vnd.databricks.v1+cell": {
     "cellMetadata": {},
     "inputWidgets": {},
     "nuid": "77cd9010-1b4b-4d90-8308-ecc7c760ceeb",
     "showTitle": false,
     "title": ""
    }
   },
   "outputs": [],
   "source": [
    "testx = np.array(testX)\n",
    "testy = np.array(testY)\n",
    "\n",
    "axes = plt.axes()\n",
    "axes.set_xlim([0,7])\n",
    "axes.set_ylim([0, 200])\n",
    "plt.scatter(testx, testy)\n",
    "plt.plot(xp, p4(xp), c='r')\n",
    "plt.show()"
   ]
  },
  {
   "cell_type": "markdown",
   "metadata": {
    "application/vnd.databricks.v1+cell": {
     "cellMetadata": {},
     "inputWidgets": {},
     "nuid": "6ae06f47-8fa0-417a-aacb-7161aa50d95b",
     "showTitle": false,
     "title": ""
    }
   },
   "source": [
    "Doesn't look that bad when you just eyeball it, but the r-squared score on the test data is kind of horrible! This tells us that our model isn't all that great..."
   ]
  },
  {
   "cell_type": "code",
   "execution_count": 0,
   "metadata": {
    "application/vnd.databricks.v1+cell": {
     "cellMetadata": {},
     "inputWidgets": {},
     "nuid": "950f7878-19b6-4403-858d-cfa1e9624aac",
     "showTitle": false,
     "title": ""
    }
   },
   "outputs": [],
   "source": [
    "from sklearn.metrics import r2_score\n",
    "\n",
    "r2 = r2_score(testy, p4(testx))\n",
    "\n",
    "print(r2)\n"
   ]
  },
  {
   "cell_type": "markdown",
   "metadata": {
    "application/vnd.databricks.v1+cell": {
     "cellMetadata": {},
     "inputWidgets": {},
     "nuid": "4f0c4ecd-1dae-44d8-9eee-dec9c14b7b73",
     "showTitle": false,
     "title": ""
    }
   },
   "source": [
    "...even though it fits the training data better:"
   ]
  },
  {
   "cell_type": "code",
   "execution_count": 0,
   "metadata": {
    "application/vnd.databricks.v1+cell": {
     "cellMetadata": {},
     "inputWidgets": {},
     "nuid": "8721df20-e6c6-46a5-9367-193775c99de7",
     "showTitle": false,
     "title": ""
    }
   },
   "outputs": [],
   "source": [
    "from sklearn.metrics import r2_score\n",
    "\n",
    "r2 = r2_score(np.array(trainY), p4(np.array(trainX)))\n",
    "\n",
    "print(r2)"
   ]
  },
  {
   "cell_type": "markdown",
   "metadata": {
    "application/vnd.databricks.v1+cell": {
     "cellMetadata": {},
     "inputWidgets": {},
     "nuid": "7c63ac45-ee14-4a6e-8ebd-f3831dd019f9",
     "showTitle": false,
     "title": ""
    }
   },
   "source": [
    "If you're working with a Pandas DataFrame (using tabular, labeled data,) scikit-learn has built-in train_test_split functions to make this easy to do.\n",
    "\n",
    "Later we'll talk about even more robust forms of train/test, like K-fold cross-validation - where we try out multiple different splits of the data, to make sure we didn't just get lucky with where we split it."
   ]
  },
  {
   "cell_type": "markdown",
   "metadata": {
    "application/vnd.databricks.v1+cell": {
     "cellMetadata": {},
     "inputWidgets": {},
     "nuid": "43f3ae04-461f-4831-b456-77fa1e785bab",
     "showTitle": false,
     "title": ""
    }
   },
   "source": [
    "## Activity"
   ]
  },
  {
   "cell_type": "markdown",
   "metadata": {
    "application/vnd.databricks.v1+cell": {
     "cellMetadata": {},
     "inputWidgets": {},
     "nuid": "b64d6d9e-9ece-4590-83ed-ef6a644b6c35",
     "showTitle": false,
     "title": ""
    }
   },
   "source": [
    "Try measuring the error on the test data using different degree polynomial fits. What degree works best?"
   ]
  },
  {
   "cell_type": "code",
   "execution_count": 0,
   "metadata": {
    "application/vnd.databricks.v1+cell": {
     "cellMetadata": {},
     "inputWidgets": {},
     "nuid": "13bd3b77-3bf1-4bfc-ba19-e27b3ca31767",
     "showTitle": false,
     "title": ""
    }
   },
   "outputs": [],
   "source": []
  }
 ],
 "metadata": {
  "application/vnd.databricks.v1+notebook": {
   "dashboards": [],
   "language": "python",
   "notebookMetadata": {},
   "notebookName": "TrainTest",
   "widgets": {}
  },
  "kernelspec": {
   "display_name": "Python 3",
   "language": "python",
   "name": "python3"
  },
  "language_info": {
   "codemirror_mode": {
    "name": "ipython",
    "version": 3
   },
   "file_extension": ".py",
   "mimetype": "text/x-python",
   "name": "python",
   "nbconvert_exporter": "python",
   "pygments_lexer": "ipython3",
   "version": "3.7.3"
  }
 },
 "nbformat": 4,
 "nbformat_minor": 0
}
