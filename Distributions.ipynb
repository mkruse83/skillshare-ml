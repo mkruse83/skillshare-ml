{
 "cells": [
  {
   "cell_type": "markdown",
   "metadata": {
    "application/vnd.databricks.v1+cell": {
     "cellMetadata": {},
     "inputWidgets": {},
     "nuid": "216d2bab-8aac-4a04-85e4-003969e73ef1",
     "showTitle": false,
     "title": ""
    }
   },
   "source": [
    "# Examples of Data Distributions"
   ]
  },
  {
   "cell_type": "markdown",
   "metadata": {
    "application/vnd.databricks.v1+cell": {
     "cellMetadata": {},
     "inputWidgets": {},
     "nuid": "9030f635-88ba-4b5f-86a1-cfa82372d222",
     "showTitle": false,
     "title": ""
    }
   },
   "source": [
    "## Uniform Distribution"
   ]
  },
  {
   "cell_type": "code",
   "execution_count": 0,
   "metadata": {
    "application/vnd.databricks.v1+cell": {
     "cellMetadata": {},
     "inputWidgets": {},
     "nuid": "f81e44c5-9a3f-49eb-96fc-a35bd5aefe00",
     "showTitle": false,
     "title": ""
    }
   },
   "outputs": [],
   "source": [
    "%matplotlib inline\n",
    "\n",
    "import numpy as np\n",
    "import matplotlib.pyplot as plt\n",
    "\n",
    "values = np.random.uniform(-10.0, 10.0, 100000)\n",
    "plt.hist(values, 50)\n",
    "plt.show()"
   ]
  },
  {
   "cell_type": "markdown",
   "metadata": {
    "application/vnd.databricks.v1+cell": {
     "cellMetadata": {},
     "inputWidgets": {},
     "nuid": "7bc0555e-69bb-4e0e-849d-e5e25ba7b132",
     "showTitle": false,
     "title": ""
    }
   },
   "source": [
    "## Normal / Gaussian"
   ]
  },
  {
   "cell_type": "markdown",
   "metadata": {
    "application/vnd.databricks.v1+cell": {
     "cellMetadata": {},
     "inputWidgets": {},
     "nuid": "0b59307f-980e-4c5f-b773-ff84cbc8c62f",
     "showTitle": false,
     "title": ""
    }
   },
   "source": [
    "Visualize the probability density function:"
   ]
  },
  {
   "cell_type": "code",
   "execution_count": 0,
   "metadata": {
    "application/vnd.databricks.v1+cell": {
     "cellMetadata": {},
     "inputWidgets": {},
     "nuid": "e2ccb4b7-08f0-4491-b45f-827d798ff663",
     "showTitle": false,
     "title": ""
    }
   },
   "outputs": [],
   "source": [
    "from scipy.stats import norm\n",
    "import matplotlib.pyplot as plt\n",
    "\n",
    "x = np.arange(-3, 3, 0.001)\n",
    "plt.plot(x, norm.pdf(x))\n"
   ]
  },
  {
   "cell_type": "markdown",
   "metadata": {
    "application/vnd.databricks.v1+cell": {
     "cellMetadata": {},
     "inputWidgets": {},
     "nuid": "6c5b3326-6524-4c63-bd93-b02d3e636da4",
     "showTitle": false,
     "title": ""
    }
   },
   "source": [
    "Generate some random numbers with a normal distribution. \"mu\" is the desired mean, \"sigma\" is the standard deviation:"
   ]
  },
  {
   "cell_type": "code",
   "execution_count": 0,
   "metadata": {
    "application/vnd.databricks.v1+cell": {
     "cellMetadata": {},
     "inputWidgets": {},
     "nuid": "1c924249-eb92-41a9-a9cc-0592cff36952",
     "showTitle": false,
     "title": ""
    }
   },
   "outputs": [],
   "source": [
    "import numpy as np\n",
    "import matplotlib.pyplot as plt\n",
    "\n",
    "mu = 5.0\n",
    "sigma = 2.0\n",
    "values = np.random.normal(mu, sigma, 10000)\n",
    "plt.hist(values, 50)\n",
    "plt.show()"
   ]
  },
  {
   "cell_type": "markdown",
   "metadata": {
    "application/vnd.databricks.v1+cell": {
     "cellMetadata": {},
     "inputWidgets": {},
     "nuid": "4da75655-b3a5-4a1a-acf2-a02b78662429",
     "showTitle": false,
     "title": ""
    }
   },
   "source": [
    "## Exponential PDF / \"Power Law\""
   ]
  },
  {
   "cell_type": "code",
   "execution_count": 0,
   "metadata": {
    "application/vnd.databricks.v1+cell": {
     "cellMetadata": {},
     "inputWidgets": {},
     "nuid": "e135a832-d0eb-48d7-b586-7c836af27975",
     "showTitle": false,
     "title": ""
    }
   },
   "outputs": [],
   "source": [
    "from scipy.stats import expon\n",
    "import matplotlib.pyplot as plt\n",
    "\n",
    "x = np.arange(0, 10, 0.001)\n",
    "plt.plot(x, expon.pdf(x))"
   ]
  },
  {
   "cell_type": "markdown",
   "metadata": {
    "application/vnd.databricks.v1+cell": {
     "cellMetadata": {},
     "inputWidgets": {},
     "nuid": "644525dd-e0c2-4cdc-ba4b-5789f6a2c6c8",
     "showTitle": false,
     "title": ""
    }
   },
   "source": [
    "## Binomial Probability Mass Function"
   ]
  },
  {
   "cell_type": "code",
   "execution_count": 0,
   "metadata": {
    "application/vnd.databricks.v1+cell": {
     "cellMetadata": {},
     "inputWidgets": {},
     "nuid": "bafe0d07-8033-47e9-961c-4ebaf1c85bb2",
     "showTitle": false,
     "title": ""
    }
   },
   "outputs": [],
   "source": [
    "from scipy.stats import binom\n",
    "import matplotlib.pyplot as plt\n",
    "\n",
    "n, p = 10, 0.5\n",
    "x = np.arange(0, 10, 0.001)\n",
    "plt.plot(x, binom.pmf(x, n, p))"
   ]
  },
  {
   "cell_type": "markdown",
   "metadata": {
    "application/vnd.databricks.v1+cell": {
     "cellMetadata": {},
     "inputWidgets": {},
     "nuid": "63be620d-fce4-4e8d-b3e8-ad39905d5934",
     "showTitle": false,
     "title": ""
    }
   },
   "source": [
    "## Poisson Probability Mass Function"
   ]
  },
  {
   "cell_type": "markdown",
   "metadata": {
    "application/vnd.databricks.v1+cell": {
     "cellMetadata": {},
     "inputWidgets": {},
     "nuid": "5a3efe03-9d05-42cb-b5a5-3f5842547754",
     "showTitle": false,
     "title": ""
    }
   },
   "source": [
    "Example: My website gets on average 500 visits per day. What's the odds of getting 550?"
   ]
  },
  {
   "cell_type": "code",
   "execution_count": 0,
   "metadata": {
    "application/vnd.databricks.v1+cell": {
     "cellMetadata": {},
     "inputWidgets": {},
     "nuid": "9327d2b2-9707-4913-a33b-a17035ed50bd",
     "showTitle": false,
     "title": ""
    }
   },
   "outputs": [],
   "source": [
    "from scipy.stats import poisson\n",
    "import matplotlib.pyplot as plt\n",
    "\n",
    "mu = 500\n",
    "x = np.arange(400, 600, 0.5)\n",
    "plt.plot(x, poisson.pmf(x, mu))"
   ]
  },
  {
   "cell_type": "markdown",
   "metadata": {
    "application/vnd.databricks.v1+cell": {
     "cellMetadata": {},
     "inputWidgets": {},
     "nuid": "9948fe87-2f20-4bf8-8329-509b5d50d074",
     "showTitle": false,
     "title": ""
    }
   },
   "source": [
    "## Pop Quiz!"
   ]
  },
  {
   "cell_type": "markdown",
   "metadata": {
    "application/vnd.databricks.v1+cell": {
     "cellMetadata": {},
     "inputWidgets": {},
     "nuid": "8b52d105-6d4d-4a2a-ae4e-f907063e90ca",
     "showTitle": false,
     "title": ""
    }
   },
   "source": [
    "What's the equivalent of a probability distribution function when using discrete instead of continuous data?"
   ]
  },
  {
   "cell_type": "code",
   "execution_count": 0,
   "metadata": {
    "application/vnd.databricks.v1+cell": {
     "cellMetadata": {},
     "inputWidgets": {},
     "nuid": "9a12b5f7-5b03-4251-b525-3249fda696c0",
     "showTitle": false,
     "title": ""
    }
   },
   "outputs": [],
   "source": []
  }
 ],
 "metadata": {
  "application/vnd.databricks.v1+notebook": {
   "dashboards": [],
   "language": "python",
   "notebookMetadata": {},
   "notebookName": "Distributions",
   "widgets": {}
  },
  "kernelspec": {
   "display_name": "Python 3",
   "language": "python",
   "name": "python3"
  },
  "language_info": {
   "codemirror_mode": {
    "name": "ipython",
    "version": 3
   },
   "file_extension": ".py",
   "mimetype": "text/x-python",
   "name": "python",
   "nbconvert_exporter": "python",
   "pygments_lexer": "ipython3",
   "version": "3.7.3"
  }
 },
 "nbformat": 4,
 "nbformat_minor": 0
}
